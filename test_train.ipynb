{
 "cells": [
  {
   "cell_type": "code",
   "id": "a9b2a21f",
   "metadata": {
    "ExecuteTime": {
     "end_time": "2025-04-26T17:50:36.890044Z",
     "start_time": "2025-04-26T17:50:36.860884Z"
    }
   },
   "source": [
    "import torch\n",
    "import kagglehub\n",
    "import torch.nn as nn\n",
    "from torch.optim import AdamW\n",
    "from torch.utils.data import DataLoader\n",
    "from transformers import get_scheduler, PreTrainedTokenizerFast\n",
    "from tqdm.auto import tqdm\n",
    "import evaluate\n",
    "from accelerate import Accelerator\n",
    "from models import NextByteTransformer\n",
    "import pandas as pd\n",
    "from pathlib import Path\n",
    "from sklearn.model_selection import train_test_split\n",
    "from sklearn.metrics import f1_score\n",
    "from recipe_nlg import TokenizedRecipeNLGDataset\n",
    "\n",
    "\"\"\"Model & training hyper parameters\"\"\"\n",
    "context_length = 512\n",
    "d_model = 512\n",
    "num_heads = 8\n",
    "num_hidden_layers = 8\n",
    "d_hidden = 2048\n",
    "num_decoders = 1\n",
    "num_epochs = 5\n",
    "lr = 3e-5\n",
    "batch_size = 16\n",
    "device = torch.device(\"cuda\") if torch.cuda.is_available() else torch.device(\"cpu\")\n",
    "print(device)\n",
    "\n",
    "\n",
    "# different loss function?\n",
    "loss_fn = nn.CrossEntropyLoss()\n",
    "\n",
    "# set mode and tokenizer path\n",
    "mode = 'title_to_all'\n",
    "tokenizer_path = Path('Tokenizers/' + mode + '_tokenizer')\n",
    "\n",
    "print('loading tokenizer')\n",
    "tokenizer = PreTrainedTokenizerFast.from_pretrained(tokenizer_path, model_max_length=context_length)\n"
   ],
   "outputs": [
    {
     "name": "stdout",
     "output_type": "stream",
     "text": [
      "cuda\n",
      "loading tokenizer\n"
     ]
    }
   ],
   "execution_count": 22
  },
  {
   "cell_type": "code",
   "id": "6578e701",
   "metadata": {
    "ExecuteTime": {
     "end_time": "2025-04-26T17:50:56.333446Z",
     "start_time": "2025-04-26T17:50:39.489507Z"
    }
   },
   "source": [
    "print('loading df..')\n",
    "path = kagglehub.dataset_download(\"paultimothymooney/recipenlg\")\n",
    "# Load the dataset\n",
    "df = pd.read_csv(path + \"/RecipeNLG_dataset.csv\", header=0)\n",
    "print(len(df))\n"
   ],
   "outputs": [
    {
     "name": "stdout",
     "output_type": "stream",
     "text": [
      "loading df..\n",
      "2231142\n"
     ]
    }
   ],
   "execution_count": 23
  },
  {
   "cell_type": "code",
   "id": "142b5920",
   "metadata": {
    "ExecuteTime": {
     "end_time": "2025-04-26T17:51:02.109741Z",
     "start_time": "2025-04-26T17:51:02.096819Z"
    }
   },
   "source": [
    "df = df[:10000]\n",
    "print(len(df))"
   ],
   "outputs": [
    {
     "name": "stdout",
     "output_type": "stream",
     "text": [
      "10000\n"
     ]
    }
   ],
   "execution_count": 24
  },
  {
   "cell_type": "code",
   "id": "f4da82f7",
   "metadata": {
    "ExecuteTime": {
     "end_time": "2025-04-26T17:51:02.790157Z",
     "start_time": "2025-04-26T17:51:02.624282Z"
    }
   },
   "source": [
    "print('splitting into train and test sets')\n",
    "train_df, eval_df = train_test_split(df, test_size=0.2)\n",
    "\n",
    "print('creating datasets..')\n",
    "train_dataset = TokenizedRecipeNLGDataset(df=train_df, tokenizer=tokenizer, mode='all')\n",
    "eval_dataset = TokenizedRecipeNLGDataset(df=eval_df, tokenizer=tokenizer, mode='all')"
   ],
   "outputs": [
    {
     "name": "stdout",
     "output_type": "stream",
     "text": [
      "splitting into train and test sets\n",
      "creating datasets..\n",
      "RECIPE DEVICE: cuda\n",
      "RECIPE DEVICE: cuda\n"
     ]
    }
   ],
   "execution_count": 25
  },
  {
   "cell_type": "code",
   "id": "5fe7b51f",
   "metadata": {
    "ExecuteTime": {
     "end_time": "2025-04-26T17:51:03.763909Z",
     "start_time": "2025-04-26T17:51:03.588586Z"
    }
   },
   "source": [
    "print('creating model..')\n",
    "# declare model\n",
    "model = NextByteTransformer(\n",
    "    vocab_size=20000,\n",
    "    context_length=context_length,\n",
    "    d_model=d_model,\n",
    "    num_heads=num_heads,\n",
    "    num_hidden_layers=num_hidden_layers,\n",
    "    d_hidden=d_hidden,\n",
    "    num_decoders=num_decoders\n",
    ")"
   ],
   "outputs": [
    {
     "name": "stdout",
     "output_type": "stream",
     "text": [
      "creating model..\n"
     ]
    }
   ],
   "execution_count": 26
  },
  {
   "cell_type": "code",
   "id": "f4fca47a",
   "metadata": {
    "ExecuteTime": {
     "end_time": "2025-04-26T17:51:04.493854Z",
     "start_time": "2025-04-26T17:51:04.468796Z"
    }
   },
   "source": [
    "print('creating dataloaders')\n",
    "train_dataloader = DataLoader(train_dataset, batch_size=batch_size, shuffle=True)\n",
    "eval_dataloader = DataLoader(eval_dataset, batch_size=batch_size, shuffle=True)\n",
    "\n",
    "# check shape\n",
    "for batch in train_dataloader:\n",
    "    print(batch['input_ids'].shape)\n",
    "    break"
   ],
   "outputs": [
    {
     "name": "stdout",
     "output_type": "stream",
     "text": [
      "creating dataloaders\n",
      "torch.Size([16, 511])\n"
     ]
    }
   ],
   "execution_count": 27
  },
  {
   "cell_type": "code",
   "id": "23a0d984",
   "metadata": {
    "ExecuteTime": {
     "end_time": "2025-04-26T17:51:05.125880Z",
     "start_time": "2025-04-26T17:51:05.051684Z"
    }
   },
   "source": [
    "# # TODO: explain what this is\n",
    "optimizer = AdamW(model.parameters(), lr=lr)\n",
    "\n",
    "device = torch.device(\"cuda\") if torch.cuda.is_available() else torch.device(\"cpu\")\n",
    "model.to(device)\n",
    "\n",
    "# # TODO: explain what this does\n",
    "num_training_steps = num_epochs * len(train_dataloader)\n",
    "lr_scheduler = get_scheduler(\n",
    "    'linear',\n",
    "    optimizer=optimizer,\n",
    "    num_warmup_steps=0,\n",
    "    num_training_steps=num_training_steps\n",
    ")"
   ],
   "outputs": [],
   "execution_count": 28
  },
  {
   "cell_type": "code",
   "id": "5568717e",
   "metadata": {
    "ExecuteTime": {
     "end_time": "2025-04-26T17:51:05.700239Z",
     "start_time": "2025-04-26T17:51:05.691676Z"
    }
   },
   "source": [
    "def evaluate_model(model, dataloader, device):\n",
    "    \"\"\"Takes the model and a dataset. Evaluates the model on the dataset, printing out overall accuracy.\"\"\"\n",
    "    # NOTE to make it simple, dataset is a dataloader already\n",
    "    metric = evaluate.load(\"accuracy\")\n",
    "    model.eval()\n",
    "    for batch in dataloader:\n",
    "        input_ids = batch['input_ids'].to(device)\n",
    "        labels = batch['labels'].to(device)\n",
    "        with torch.no_grad():\n",
    "            logits = model(input_ids)\n",
    "\n",
    "        predictions = torch.argmax(logits, dim=-1)\n",
    "        # Flatten predictions and labels\n",
    "        predictions = predictions.view(-1)  # Shape: [batch_size * seq_len]\n",
    "        labels = labels.view(-1)  # Shape: [batch_size * seq_len]\n",
    "\n",
    "        metric.add_batch(predictions=predictions.detach().cpu().numpy(), references=labels.detach().cpu().numpy())\n",
    "    # average = 'micro' uses a global count of the total TPs, FNs and FPs.\n",
    "    print(f\"F1: {f1_score(y_true=labels.detach().cpu().numpy(), y_pred=predictions.detach().cpu().numpy(), average='micro')}\") # average arg needed for multiclass targets\n",
    "    print(f\"ACCURACY: {metric.compute()}\")"
   ],
   "outputs": [],
   "execution_count": 29
  },
  {
   "cell_type": "code",
   "id": "6ef94ec0",
   "metadata": {
    "ExecuteTime": {
     "end_time": "2025-04-26T17:55:53.178214Z",
     "start_time": "2025-04-26T17:51:06.592559Z"
    }
   },
   "source": [
    "model.train()\n",
    "for epoch in range(num_epochs):\n",
    "    print(f\"EPOCH {epoch}\")\n",
    "    for batch in tqdm(train_dataloader, unit='batch'):\n",
    "        input_ids = batch['input_ids']\n",
    "        labels = batch['labels']\n",
    "        \n",
    "        logits = model(input_ids)\n",
    "        # reformat to shape expected by cross entrooy\n",
    "        logits = logits.view(-1, logits.size(-1))  # (b * seq, v)\n",
    "        labels = labels.view(-1)  # (b * seq)\n",
    "        # cross entropy handles the softmax part\n",
    "        loss = loss_fn(logits, labels)\n",
    "        \n",
    "        # update weights\n",
    "        loss.backward()\n",
    "        optimizer.step()\n",
    "        lr_scheduler.step()\n",
    "        optimizer.zero_grad()\n",
    "        \n",
    "    print(\"TRAIN METRICS\")\n",
    "    evaluate_model(model, train_dataloader, device)\n",
    "    print(\"EVAL METRICS\")\n",
    "    evaluate_model(model, eval_dataloader, device)\n",
    "  "
   ],
   "outputs": [
    {
     "name": "stdout",
     "output_type": "stream",
     "text": [
      "EPOCH 0\n"
     ]
    },
    {
     "data": {
      "text/plain": [
       "  0%|          | 0/500 [00:00<?, ?batch/s]"
      ],
      "application/vnd.jupyter.widget-view+json": {
       "version_major": 2,
       "version_minor": 0,
       "model_id": "c597f11f0dd94962a5566c68d2c73fd3"
      }
     },
     "metadata": {},
     "output_type": "display_data"
    },
    {
     "name": "stdout",
     "output_type": "stream",
     "text": [
      "TRAIN METRICS\n",
      "F1: 0.7789872798434442\n",
      "ACCURACY: {'accuracy': 0.8120662915851272}\n",
      "EVAL METRICS\n",
      "F1: 0.8151908023483366\n",
      "ACCURACY: {'accuracy': 0.8142495107632094}\n",
      "EPOCH 1\n"
     ]
    },
    {
     "data": {
      "text/plain": [
       "  0%|          | 0/500 [00:00<?, ?batch/s]"
      ],
      "application/vnd.jupyter.widget-view+json": {
       "version_major": 2,
       "version_minor": 0,
       "model_id": "4de5f685afb64a97a7e383fc4bc34f30"
      }
     },
     "metadata": {},
     "output_type": "display_data"
    },
    {
     "name": "stdout",
     "output_type": "stream",
     "text": [
      "TRAIN METRICS\n",
      "F1: 0.8221624266144814\n",
      "ACCURACY: {'accuracy': 0.8167382583170254}\n",
      "EVAL METRICS\n",
      "F1: 0.8271771037181996\n",
      "ACCURACY: {'accuracy': 0.8188923679060666}\n",
      "EPOCH 2\n"
     ]
    },
    {
     "data": {
      "text/plain": [
       "  0%|          | 0/500 [00:00<?, ?batch/s]"
      ],
      "application/vnd.jupyter.widget-view+json": {
       "version_major": 2,
       "version_minor": 0,
       "model_id": "e38c59bddea949b19dc3551084d31f67"
      }
     },
     "metadata": {},
     "output_type": "display_data"
    },
    {
     "name": "stdout",
     "output_type": "stream",
     "text": [
      "TRAIN METRICS\n",
      "F1: 0.8325587084148728\n",
      "ACCURACY: {'accuracy': 0.816024217221135}\n",
      "EVAL METRICS\n",
      "F1: 0.8451565557729941\n",
      "ACCURACY: {'accuracy': 0.8181438356164383}\n",
      "EPOCH 3\n"
     ]
    },
    {
     "data": {
      "text/plain": [
       "  0%|          | 0/500 [00:00<?, ?batch/s]"
      ],
      "application/vnd.jupyter.widget-view+json": {
       "version_major": 2,
       "version_minor": 0,
       "model_id": "f9fb4f5ec98842078c0d6ab4e311e4f9"
      }
     },
     "metadata": {},
     "output_type": "display_data"
    },
    {
     "name": "stdout",
     "output_type": "stream",
     "text": [
      "TRAIN METRICS\n",
      "F1: 0.7800880626223092\n",
      "ACCURACY: {'accuracy': 0.8159823874755382}\n",
      "EVAL METRICS\n",
      "F1: 0.8275440313111546\n",
      "ACCURACY: {'accuracy': 0.818124266144814}\n",
      "EPOCH 4\n"
     ]
    },
    {
     "data": {
      "text/plain": [
       "  0%|          | 0/500 [00:00<?, ?batch/s]"
      ],
      "application/vnd.jupyter.widget-view+json": {
       "version_major": 2,
       "version_minor": 0,
       "model_id": "b2c63a19daaf45458c10d6c992f8164c"
      }
     },
     "metadata": {},
     "output_type": "display_data"
    },
    {
     "name": "stdout",
     "output_type": "stream",
     "text": [
      "TRAIN METRICS\n",
      "F1: 0.803082191780822\n",
      "ACCURACY: {'accuracy': 0.816024217221135}\n",
      "EVAL METRICS\n",
      "F1: 0.8221624266144814\n",
      "ACCURACY: {'accuracy': 0.8181438356164383}\n"
     ]
    }
   ],
   "execution_count": 30
  },
  {
   "metadata": {
    "ExecuteTime": {
     "end_time": "2025-04-26T18:00:36.193819Z",
     "start_time": "2025-04-26T18:00:35.850144Z"
    }
   },
   "cell_type": "code",
   "source": [
    "def generate_text(model, tokenizer, prompt, device, max_new_tokens=100, top_k=10):\n",
    "    \"\"\"Generate text from a prompt using top-k sampling.\"\"\"\n",
    "    model.eval()\n",
    "\n",
    "    input_ids = tokenizer.encode(prompt, return_tensors=\"pt\").to(device)\n",
    "\n",
    "    with torch.no_grad():\n",
    "        for _ in range(max_new_tokens):\n",
    "            outputs = model(input_ids)\n",
    "\n",
    "            # Get logits for the last token\n",
    "            next_token_logits = outputs[:, -1, :]  # (batch=1, vocab_size)\n",
    "\n",
    "            # Top-k sampling\n",
    "            values, indices = torch.topk(next_token_logits, k=top_k, dim=-1)  # pick top k logits\n",
    "\n",
    "            # Apply softmax over top-k logits\n",
    "            probs = torch.softmax(values, dim=-1)\n",
    "\n",
    "            # Sample from the top-k tokens\n",
    "            next_token = indices.gather(-1, torch.multinomial(probs, num_samples=1))\n",
    "\n",
    "            # Append sampled token\n",
    "            input_ids = torch.cat([input_ids, next_token], dim=1)\n",
    "\n",
    "    generated_text = tokenizer.decode(input_ids.squeeze().tolist(), skip_special_tokens=True)\n",
    "\n",
    "    return generated_text\n",
    "\n",
    "# Example usage:\n",
    "prompt = \"burger\"\n",
    "generated = generate_text(model, tokenizer, prompt, device, max_new_tokens=100, top_k=50)\n",
    "print(generated)"
   ],
   "id": "6590e620b5e2e1a9",
   "outputs": [
    {
     "name": "stdout",
     "output_type": "stream",
     "text": [
      "burger salt the , , onion ( - the ) ) at butter 1 - 1 a 1 1 . for bake c and and add and , at . , sugar , , 12 with until oz , chopped , and and . cream or . . 4 , , , , . 1 , c , - c flour of 1 . , , . salt 2 and in , 12 , chopped cheese the salt c . . add cream c to 1 1 1 4 , 12 c , . c\n"
     ]
    }
   ],
   "execution_count": 40
  }
 ],
 "metadata": {
  "kernelspec": {
   "display_name": "base",
   "language": "python",
   "name": "python3"
  },
  "language_info": {
   "codemirror_mode": {
    "name": "ipython",
    "version": 3
   },
   "file_extension": ".py",
   "mimetype": "text/x-python",
   "name": "python",
   "nbconvert_exporter": "python",
   "pygments_lexer": "ipython3",
   "version": "3.12.7"
  }
 },
 "nbformat": 4,
 "nbformat_minor": 5
}
