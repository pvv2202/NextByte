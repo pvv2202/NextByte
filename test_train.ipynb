{
 "cells": [
  {
   "cell_type": "code",
   "id": "a9b2a21f",
   "metadata": {
    "ExecuteTime": {
     "end_time": "2025-04-26T17:39:25.040670Z",
     "start_time": "2025-04-26T17:39:25.021646Z"
    }
   },
   "source": [
    "import torch\n",
    "import kagglehub\n",
    "import torch.nn as nn\n",
    "from torch.optim import AdamW\n",
    "from torch.utils.data import DataLoader\n",
    "from transformers import get_scheduler, PreTrainedTokenizerFast\n",
    "from tqdm.auto import tqdm\n",
    "import evaluate\n",
    "from accelerate import Accelerator\n",
    "from models import NextByteTransformer\n",
    "import pandas as pd\n",
    "from pathlib import Path\n",
    "from sklearn.model_selection import train_test_split\n",
    "from sklearn.metrics import f1_score\n",
    "from recipe_nlg import TokenizedRecipeNLGDataset\n",
    "\n",
    "\"\"\"Model & training hyper parameters\"\"\"\n",
    "context_length = 512\n",
    "d_model = 512\n",
    "num_heads = 8\n",
    "num_hidden_layers = 8\n",
    "d_hidden = 2048\n",
    "num_decoders = 1\n",
    "num_epochs = 5\n",
    "lr = 3e-5\n",
    "batch_size = 16\n",
    "device = torch.device(\"cuda\") if torch.cuda.is_available() else torch.device(\"cpu\")\n",
    "print(device)\n",
    "\n",
    "\n",
    "# different loss function?\n",
    "loss_fn = nn.CrossEntropyLoss()\n",
    "\n",
    "# set mode and tokenizer path\n",
    "mode = 'title_to_all'\n",
    "tokenizer_path = Path('Tokenizers/' + mode + '_tokenizer')\n",
    "\n",
    "print('loading tokenizer')\n",
    "tokenizer = PreTrainedTokenizerFast.from_pretrained(tokenizer_path, model_max_length=context_length)"
   ],
   "outputs": [
    {
     "name": "stdout",
     "output_type": "stream",
     "text": [
      "cuda\n",
      "loading tokenizer\n"
     ]
    }
   ],
   "execution_count": 18
  },
  {
   "cell_type": "code",
   "id": "6578e701",
   "metadata": {
    "ExecuteTime": {
     "end_time": "2025-04-26T17:39:42.027910Z",
     "start_time": "2025-04-26T17:39:25.040670Z"
    }
   },
   "source": [
    "print('loading df..')\n",
    "path = kagglehub.dataset_download(\"paultimothymooney/recipenlg\")\n",
    "# Load the dataset\n",
    "df = pd.read_csv(path + \"/RecipeNLG_dataset.csv\", header=0)\n",
    "print(len(df))\n"
   ],
   "outputs": [
    {
     "name": "stdout",
     "output_type": "stream",
     "text": [
      "loading df..\n",
      "2231142\n"
     ]
    }
   ],
   "execution_count": 19
  },
  {
   "cell_type": "code",
   "id": "142b5920",
   "metadata": {
    "ExecuteTime": {
     "end_time": "2025-04-26T17:39:42.031368Z",
     "start_time": "2025-04-26T17:39:42.027910Z"
    }
   },
   "source": [
    "df = df[:100]\n",
    "print(len(df))"
   ],
   "outputs": [
    {
     "name": "stdout",
     "output_type": "stream",
     "text": [
      "100\n"
     ]
    }
   ],
   "execution_count": 20
  },
  {
   "cell_type": "code",
   "id": "f4da82f7",
   "metadata": {
    "ExecuteTime": {
     "end_time": "2025-04-26T17:39:42.041085Z",
     "start_time": "2025-04-26T17:39:42.031368Z"
    }
   },
   "source": [
    "print('splitting into train and test sets')\n",
    "train_df, eval_df = train_test_split(df, test_size=0.2)\n",
    "\n",
    "print('creating datasets..')\n",
    "train_dataset = TokenizedRecipeNLGDataset(df=train_df, tokenizer=tokenizer, mode='all')\n",
    "eval_dataset = TokenizedRecipeNLGDataset(df=eval_df, tokenizer=tokenizer, mode='all')"
   ],
   "outputs": [
    {
     "name": "stdout",
     "output_type": "stream",
     "text": [
      "splitting into train and test sets\n",
      "creating datasets..\n",
      "RECIPE DEVICE: cuda\n",
      "RECIPE DEVICE: cuda\n"
     ]
    }
   ],
   "execution_count": 21
  },
  {
   "cell_type": "code",
   "id": "5fe7b51f",
   "metadata": {
    "ExecuteTime": {
     "end_time": "2025-04-26T17:39:42.261586Z",
     "start_time": "2025-04-26T17:39:42.041085Z"
    }
   },
   "source": [
    "print('creating model..')\n",
    "# declare model\n",
    "model = NextByteTransformer(\n",
    "    vocab_size=20000,\n",
    "    context_length=context_length,\n",
    "    d_model=d_model,\n",
    "    num_heads=num_heads,\n",
    "    num_hidden_layers=num_hidden_layers,\n",
    "    d_hidden=d_hidden,\n",
    "    num_decoders=num_decoders\n",
    ")"
   ],
   "outputs": [
    {
     "name": "stdout",
     "output_type": "stream",
     "text": [
      "creating model..\n"
     ]
    }
   ],
   "execution_count": 22
  },
  {
   "cell_type": "code",
   "id": "f4fca47a",
   "metadata": {
    "ExecuteTime": {
     "end_time": "2025-04-26T17:39:42.567907Z",
     "start_time": "2025-04-26T17:39:42.261586Z"
    }
   },
   "source": [
    "print('creating dataloaders')\n",
    "train_dataloader = DataLoader(train_dataset, batch_size=batch_size, shuffle=True)\n",
    "eval_dataloader = DataLoader(eval_dataset, batch_size=batch_size, shuffle=True)\n",
    "\n",
    "# check shape\n",
    "for batch in train_dataloader:\n",
    "    print(batch['input_ids'].shape)\n",
    "    break"
   ],
   "outputs": [
    {
     "name": "stdout",
     "output_type": "stream",
     "text": [
      "creating dataloaders\n",
      "torch.Size([16, 511])\n"
     ]
    }
   ],
   "execution_count": 23
  },
  {
   "cell_type": "code",
   "id": "23a0d984",
   "metadata": {
    "ExecuteTime": {
     "end_time": "2025-04-26T17:39:42.641656Z",
     "start_time": "2025-04-26T17:39:42.567907Z"
    }
   },
   "source": [
    "# # TODO: explain what this is\n",
    "optimizer = AdamW(model.parameters(), lr=lr)\n",
    "\n",
    "device = torch.device(\"cuda\") if torch.cuda.is_available() else torch.device(\"cpu\")\n",
    "model.to(device)\n",
    "\n",
    "# # TODO: explain what this does\n",
    "num_training_steps = num_epochs * len(train_dataloader)\n",
    "lr_scheduler = get_scheduler(\n",
    "    'linear',\n",
    "    optimizer=optimizer,\n",
    "    num_warmup_steps=0,\n",
    "    num_training_steps=num_training_steps\n",
    ")"
   ],
   "outputs": [],
   "execution_count": 24
  },
  {
   "cell_type": "code",
   "id": "6ef94ec0",
   "metadata": {
    "ExecuteTime": {
     "end_time": "2025-04-26T17:39:44.335407Z",
     "start_time": "2025-04-26T17:39:42.641656Z"
    }
   },
   "source": [
    "model.train()\n",
    "for epoch in range(num_epochs):\n",
    "    print(f\"EPOCH {epoch}\")\n",
    "    for batch in tqdm(train_dataloader, unit='batch'):\n",
    "        input_ids = batch['input_ids']\n",
    "        labels = batch['labels']\n",
    "        \n",
    "        logits = model(input_ids)\n",
    "        # reformat to shape expected by cross entrooy\n",
    "        logits = logits.view(-1, logits.size(-1))  # (b * seq, v)\n",
    "        labels = labels.view(-1)  # (b * seq)\n",
    "        # cross entropy handles the softmax part\n",
    "        loss = loss_fn(logits, labels)\n",
    "        \n",
    "        # update weights\n",
    "        loss.backward()\n",
    "        optimizer.step()\n",
    "        lr_scheduler.step()\n",
    "        optimizer.zero_grad()"
   ],
   "outputs": [
    {
     "name": "stdout",
     "output_type": "stream",
     "text": [
      "EPOCH 0\n"
     ]
    },
    {
     "data": {
      "text/plain": [
       "  0%|          | 0/5 [00:00<?, ?batch/s]"
      ],
      "application/vnd.jupyter.widget-view+json": {
       "version_major": 2,
       "version_minor": 0,
       "model_id": "6632864291f1477f8939eb219fc5add4"
      }
     },
     "metadata": {},
     "output_type": "display_data"
    },
    {
     "name": "stdout",
     "output_type": "stream",
     "text": [
      "EPOCH 1\n"
     ]
    },
    {
     "data": {
      "text/plain": [
       "  0%|          | 0/5 [00:00<?, ?batch/s]"
      ],
      "application/vnd.jupyter.widget-view+json": {
       "version_major": 2,
       "version_minor": 0,
       "model_id": "d2d58fdfd67444ea9a9d3454303ee29c"
      }
     },
     "metadata": {},
     "output_type": "display_data"
    },
    {
     "name": "stdout",
     "output_type": "stream",
     "text": [
      "EPOCH 2\n"
     ]
    },
    {
     "data": {
      "text/plain": [
       "  0%|          | 0/5 [00:00<?, ?batch/s]"
      ],
      "application/vnd.jupyter.widget-view+json": {
       "version_major": 2,
       "version_minor": 0,
       "model_id": "c81b7f34007747d98f622d79ff8ee834"
      }
     },
     "metadata": {},
     "output_type": "display_data"
    },
    {
     "name": "stdout",
     "output_type": "stream",
     "text": [
      "EPOCH 3\n"
     ]
    },
    {
     "data": {
      "text/plain": [
       "  0%|          | 0/5 [00:00<?, ?batch/s]"
      ],
      "application/vnd.jupyter.widget-view+json": {
       "version_major": 2,
       "version_minor": 0,
       "model_id": "9f12e9c136d1433288f9923daab960d0"
      }
     },
     "metadata": {},
     "output_type": "display_data"
    },
    {
     "name": "stdout",
     "output_type": "stream",
     "text": [
      "EPOCH 4\n"
     ]
    },
    {
     "data": {
      "text/plain": [
       "  0%|          | 0/5 [00:00<?, ?batch/s]"
      ],
      "application/vnd.jupyter.widget-view+json": {
       "version_major": 2,
       "version_minor": 0,
       "model_id": "2f5de248ab4d4909aa8b95170b670721"
      }
     },
     "metadata": {},
     "output_type": "display_data"
    }
   ],
   "execution_count": 25
  }
 ],
 "metadata": {
  "kernelspec": {
   "display_name": "base",
   "language": "python",
   "name": "python3"
  },
  "language_info": {
   "codemirror_mode": {
    "name": "ipython",
    "version": 3
   },
   "file_extension": ".py",
   "mimetype": "text/x-python",
   "name": "python",
   "nbconvert_exporter": "python",
   "pygments_lexer": "ipython3",
   "version": "3.12.7"
  }
 },
 "nbformat": 4,
 "nbformat_minor": 5
}
