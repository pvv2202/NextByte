{
 "cells": [
  {
   "cell_type": "code",
   "execution_count": 18,
   "id": "a9b2a21f",
   "metadata": {
    "ExecuteTime": {
     "end_time": "2025-04-26T17:39:25.040670Z",
     "start_time": "2025-04-26T17:39:25.021646Z"
    }
   },
   "outputs": [
    {
     "name": "stdout",
     "output_type": "stream",
     "text": [
      "cuda\n",
      "loading tokenizer\n"
     ]
    }
   ],
   "source": [
    "import torch\n",
    "import kagglehub\n",
    "import torch.nn as nn\n",
    "from torch.optim import AdamW\n",
    "from torch.utils.data import DataLoader\n",
    "from transformers import get_scheduler, PreTrainedTokenizerFast\n",
    "from tqdm.auto import tqdm\n",
    "import evaluate\n",
    "from accelerate import Accelerator\n",
    "from models import NextByteTransformer\n",
    "import pandas as pd\n",
    "from pathlib import Path\n",
    "from sklearn.model_selection import train_test_split\n",
    "from sklearn.metrics import f1_score\n",
    "from recipe_nlg import TokenizedRecipeNLGDataset\n",
    "\n",
    "\"\"\"Model & training hyper parameters\"\"\"\n",
    "context_length = 512\n",
    "d_model = 512\n",
    "num_heads = 8\n",
    "num_hidden_layers = 8\n",
    "d_hidden = 2048\n",
    "num_decoders = 1\n",
    "num_epochs = 5\n",
    "lr = 3e-5\n",
    "batch_size = 16\n",
    "device = torch.device(\"cuda\") if torch.cuda.is_available() else torch.device(\"cpu\")\n",
    "print(device)\n",
    "\n",
    "\n",
    "# different loss function?\n",
    "loss_fn = nn.CrossEntropyLoss()\n",
    "\n",
    "# set mode and tokenizer path\n",
    "mode = 'title_to_all'\n",
    "tokenizer_path = Path('Tokenizers/' + mode + '_tokenizer')\n",
    "\n",
    "print('loading tokenizer')\n",
    "tokenizer = PreTrainedTokenizerFast.from_pretrained(tokenizer_path, model_max_length=context_length)\n"
   ]
  },
  {
   "cell_type": "code",
   "execution_count": null,
   "id": "6578e701",
   "metadata": {
    "ExecuteTime": {
     "start_time": "2025-04-26T17:39:25.040670Z"
    },
    "jupyter": {
     "is_executing": true
    }
   },
   "outputs": [
    {
     "name": "stdout",
     "output_type": "stream",
     "text": [
      "loading df..\n"
     ]
    }
   ],
   "source": [
    "print('loading df..')\n",
    "path = kagglehub.dataset_download(\"paultimothymooney/recipenlg\")\n",
    "# Load the dataset\n",
    "df = pd.read_csv(path + \"/RecipeNLG_dataset.csv\", header=0)\n",
    "print(len(df))\n"
   ]
  },
  {
   "cell_type": "code",
   "execution_count": null,
   "id": "142b5920",
   "metadata": {
    "jupyter": {
     "is_executing": true
    }
   },
   "outputs": [],
   "source": [
    "df = df[:100]\n",
    "print(len(df))"
   ]
  },
  {
   "cell_type": "code",
   "execution_count": null,
   "id": "f4da82f7",
   "metadata": {
    "jupyter": {
     "is_executing": true
    }
   },
   "outputs": [],
   "source": [
    "print('splitting into train and test sets')\n",
    "train_df, eval_df = train_test_split(df, test_size=0.2)\n",
    "\n",
    "print('creating datasets..')\n",
    "train_dataset = TokenizedRecipeNLGDataset(df=train_df, tokenizer=tokenizer, mode='all')\n",
    "eval_dataset = TokenizedRecipeNLGDataset(df=eval_df, tokenizer=tokenizer, mode='all')"
   ]
  },
  {
   "cell_type": "code",
   "execution_count": null,
   "id": "5fe7b51f",
   "metadata": {
    "jupyter": {
     "is_executing": true
    }
   },
   "outputs": [],
   "source": [
    "print('creating model..')\n",
    "# declare model\n",
    "model = NextByteTransformer(\n",
    "    vocab_size=20000,\n",
    "    context_length=context_length,\n",
    "    d_model=d_model,\n",
    "    num_heads=num_heads,\n",
    "    num_hidden_layers=num_hidden_layers,\n",
    "    d_hidden=d_hidden,\n",
    "    num_decoders=num_decoders\n",
    ")"
   ]
  },
  {
   "cell_type": "code",
   "execution_count": null,
   "id": "f4fca47a",
   "metadata": {
    "jupyter": {
     "is_executing": true
    }
   },
   "outputs": [],
   "source": [
    "print('creating dataloaders')\n",
    "train_dataloader = DataLoader(train_dataset, batch_size=batch_size, shuffle=True)\n",
    "eval_dataloader = DataLoader(eval_dataset, batch_size=batch_size, shuffle=True)\n",
    "\n",
    "# check shape\n",
    "for batch in train_dataloader:\n",
    "    print(batch['input_ids'].shape)\n",
    "    break"
   ]
  },
  {
   "cell_type": "code",
   "execution_count": null,
   "id": "23a0d984",
   "metadata": {
    "jupyter": {
     "is_executing": true
    }
   },
   "outputs": [],
   "source": [
    "# # TODO: explain what this is\n",
    "optimizer = AdamW(model.parameters(), lr=lr)\n",
    "\n",
    "device = torch.device(\"cuda\") if torch.cuda.is_available() else torch.device(\"cpu\")\n",
    "model.to(device)\n",
    "\n",
    "# # TODO: explain what this does\n",
    "num_training_steps = num_epochs * len(train_dataloader)\n",
    "lr_scheduler = get_scheduler(\n",
    "    'linear',\n",
    "    optimizer=optimizer,\n",
    "    num_warmup_steps=0,\n",
    "    num_training_steps=num_training_steps\n",
    ")"
   ]
  },
  {
   "cell_type": "code",
   "execution_count": null,
   "id": "5568717e",
   "metadata": {},
   "outputs": [],
   "source": [
    "def evaluate_model(model, dataloader):\n",
    "    \"\"\"Takes the model and a dataset. Evaluates the model on the dataset, printing out overall accuracy.\"\"\"\n",
    "    # NOTE to make it simple, dataset is a dataloader already\n",
    "    metric = evaluate.load(\"accuracy\")\n",
    "    model.eval()\n",
    "    for batch in dataloader:\n",
    "        input_ids = batch['input_ids']\n",
    "        labels = batch['labels']\n",
    "        with torch.no_grad():\n",
    "            logits = model(input_ids)\n",
    "\n",
    "        predictions = torch.argmax(logits, dim=-1)\n",
    "        # Flatten predictions and labels\n",
    "        predictions = predictions.view(-1)  # Shape: [batch_size * seq_len]\n",
    "        labels = labels.view(-1)  # Shape: [batch_size * seq_len]\n",
    "        \n",
    "        metric.add_batch(predictions=predictions, references=labels)\n",
    "    # average = 'micro' uses a global count of the total TPs, FNs and FPs.\n",
    "    print(f\"F1: {f1_score(y_true=labels, y_pred=predictions, average='micro')}\") # average arg needed for multiclass targets\n",
    "    print(f\"ACCURACY: {metric.compute()}\")"
   ]
  },
  {
   "cell_type": "code",
   "execution_count": null,
   "id": "6ef94ec0",
   "metadata": {
    "jupyter": {
     "is_executing": true
    }
   },
   "outputs": [],
   "source": [
    "model.train()\n",
    "for epoch in range(num_epochs):\n",
    "    print(f\"EPOCH {epoch}\")\n",
    "    for batch in tqdm(train_dataloader, unit='batch'):\n",
    "        input_ids = batch['input_ids']\n",
    "        labels = batch['labels']\n",
    "        \n",
    "        logits = model(input_ids)\n",
    "        # reformat to shape expected by cross entrooy\n",
    "        logits = logits.view(-1, logits.size(-1))  # (b * seq, v)\n",
    "        labels = labels.view(-1)  # (b * seq)\n",
    "        # cross entropy handles the softmax part\n",
    "        loss = loss_fn(logits, labels)\n",
    "        \n",
    "        # update weights\n",
    "        loss.backward()\n",
    "        optimizer.step()\n",
    "        lr_scheduler.step()\n",
    "        optimizer.zero_grad()\n",
    "        \n",
    "    print(\"TRAIN METRICS\")\n",
    "    evaluate_model(model, train_dataloader)\n",
    "    print(\"EVAL METRICS\")\n",
    "    evaluate_model(model, eval_dataloader)\n",
    "  "
   ]
  }
 ],
 "metadata": {
  "kernelspec": {
   "display_name": "base",
   "language": "python",
   "name": "python3"
  },
  "language_info": {
   "codemirror_mode": {
    "name": "ipython",
    "version": 3
   },
   "file_extension": ".py",
   "mimetype": "text/x-python",
   "name": "python",
   "nbconvert_exporter": "python",
   "pygments_lexer": "ipython3",
   "version": "3.12.7"
  }
 },
 "nbformat": 4,
 "nbformat_minor": 5
}
