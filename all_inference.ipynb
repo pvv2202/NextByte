{
 "cells": [
  {
   "cell_type": "code",
   "id": "initial_id",
   "metadata": {
    "collapsed": true,
    "ExecuteTime": {
     "end_time": "2025-05-17T14:45:03.420759Z",
     "start_time": "2025-05-17T14:44:58.653272Z"
    }
   },
   "source": [
    "import torch\n",
    "import torch.nn.functional as F\n",
    "import re\n",
    "from pathlib import Path\n",
    "from transformers import PreTrainedTokenizerFast\n",
    "from models import NextByteTransformer\n",
    "\n",
    "context_length = 768\n",
    "d_model = 768\n",
    "num_heads = 12\n",
    "num_hidden_layers = 12\n",
    "d_hidden = 3072\n",
    "num_decoders = 4\n",
    "num_epochs = 12\n",
    "lr = 1e-4\n",
    "batch_size = 32\n",
    "\n",
    "# context_length = 512\n",
    "# d_model = 512\n",
    "# num_heads = 8\n",
    "# num_hidden_layers = 8\n",
    "# d_hidden = 2048\n",
    "# num_decoders = 2\n",
    "# num_epochs = 8\n",
    "# lr = 3e-5\n",
    "# batch_size = 16\n",
    "device = torch.device(\"cuda\") if torch.cuda.is_available() else torch.device(\"cpu\")\n",
    "\n",
    "tokenizer_path = Path(\"Tokenizers/title_to_all_tokenizer\")\n",
    "hf_tokenizer = PreTrainedTokenizerFast.from_pretrained(tokenizer_path)\n",
    "hf_tokenizer.eos_token_id = hf_tokenizer.convert_tokens_to_ids(\"<end>\")\n",
    "model = NextByteTransformer(\n",
    "    vocab_size=20000,\n",
    "    context_length=context_length,\n",
    "    d_model=d_model,\n",
    "    num_heads=num_heads,\n",
    "    num_hidden_layers=num_hidden_layers,\n",
    "    d_hidden=d_hidden,\n",
    "    num_decoders=num_decoders\n",
    ").to(device)\n",
    "\n",
    "model.load_state_dict(torch.load(\"Models/nextbyte.pth\", map_location=device))\n",
    "model.eval()\n",
    "\n",
    "def generate_autoregressive(model, tokenizer, input_text, max_new_tokens=100, top_k=10, context_length=768, device=\"cpu\"):\n",
    "    model.eval()\n",
    "    input_ids = tokenizer.encode(input_text, return_tensors=\"pt\").to(device)\n",
    "    input_ids = input_ids[:, -context_length:]\n",
    "    generated = input_ids\n",
    "\n",
    "    with torch.no_grad():\n",
    "        for _ in range(max_new_tokens):\n",
    "            if generated.size(1) > context_length:\n",
    "                generated = generated[:, -context_length:]\n",
    "\n",
    "            logits = model(generated)[:, -1, :]  # shape: [1, vocab_size]\n",
    "            topk_logits, topk_indices = torch.topk(logits, k=top_k, dim=-1)\n",
    "            probs = F.softmax(topk_logits, dim=-1)\n",
    "\n",
    "            sampled_index = torch.multinomial(probs, num_samples=1)  # shape: [1, 1]\n",
    "            next_token = topk_indices.gather(-1, sampled_index)  # shape: [1, 1]\n",
    "\n",
    "            generated = torch.cat([generated, next_token], dim=1)\n",
    "\n",
    "            if next_token.item() == tokenizer.eos_token_id:\n",
    "                break\n",
    "\n",
    "    return tokenizer.decode(generated[0], skip_special_tokens=False)\n",
    "\n",
    "def count_parameters(model):\n",
    "    total = sum(p.numel() for p in model.parameters())\n",
    "    trainable = sum(p.numel() for p in model.parameters() if p.requires_grad)\n",
    "    print(f\"Total parameters: {total:,}\")\n",
    "    print(f\"Trainable parameters: {trainable:,}\")\n",
    "\n",
    "count_parameters(model)"
   ],
   "outputs": [
    {
     "name": "stderr",
     "output_type": "stream",
     "text": [
      "/Users/paulvandervort/PycharmProjects/NextByte/.venv/lib/python3.11/site-packages/tqdm/auto.py:21: TqdmWarning: IProgress not found. Please update jupyter and ipywidgets. See https://ipywidgets.readthedocs.io/en/stable/user_install.html\n",
      "  from .autonotebook import tqdm as notebook_tqdm\n"
     ]
    },
    {
     "name": "stdout",
     "output_type": "stream",
     "text": [
      "Total parameters: 459,098,144\n",
      "Trainable parameters: 459,098,144\n"
     ]
    }
   ],
   "execution_count": 1
  },
  {
   "metadata": {
    "ExecuteTime": {
     "end_time": "2025-05-17T19:20:09.852410Z",
     "start_time": "2025-05-17T19:20:06.980159Z"
    }
   },
   "cell_type": "code",
   "source": [
    "input_text = \"chicken tikka masala <end_title>\"\n",
    "output = generate_autoregressive(\n",
    "    model=model,\n",
    "    tokenizer=hf_tokenizer,\n",
    "    input_text=input_text,\n",
    "    max_new_tokens=150,\n",
    "    top_k=10,\n",
    "    context_length=context_length,\n",
    ")\n",
    "print(output)\n",
    "# title = re.sub(r'\\s+([.,!?;:])', r'\\1', output[:output.index(\"<end_title>\")])\n",
    "# ingredients = re.sub(r'\\s+([.,!?;:])', r'\\1', output[output.index(\"<end_title>\") + len(\"<end_title>\"):output.index(\"<end_ingredients>\")])\n",
    "# directions = re.sub(r'\\s+([.,!?;:])', r'\\1', output[output.index(\"<end_ingredients>\") + len(\"<end_ingredients>\"):-len(\"<end>\")])\n",
    "#\n",
    "# print(f\"Recipe: \\n{title.title()}\\n\")\n",
    "# print(f\"Ingredients: \\n{ingredients.title()}\\n\")\n",
    "# print(f\"Directions: \\n{directions.title()}\\n\")"
   ],
   "id": "34a78f70d81c9953",
   "outputs": [
    {
     "name": "stdout",
     "output_type": "stream",
     "text": [
      "chicken tikka masala <end_title> 1 1 1 1 2 ( 1 12 1 1 3 1 1 1 1 1 14 2 1 1 14 , 1 . , 3 . add , 1 , 4 cup . . <end>\n"
     ]
    }
   ],
   "execution_count": 4
  }
 ],
 "metadata": {
  "kernelspec": {
   "display_name": "Python 3",
   "language": "python",
   "name": "python3"
  },
  "language_info": {
   "codemirror_mode": {
    "name": "ipython",
    "version": 2
   },
   "file_extension": ".py",
   "mimetype": "text/x-python",
   "name": "python",
   "nbconvert_exporter": "python",
   "pygments_lexer": "ipython2",
   "version": "2.7.6"
  }
 },
 "nbformat": 4,
 "nbformat_minor": 5
}
