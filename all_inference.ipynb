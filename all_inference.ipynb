{
 "cells": [
  {
   "cell_type": "code",
   "id": "initial_id",
   "metadata": {
    "collapsed": true,
    "ExecuteTime": {
     "end_time": "2025-05-04T17:43:14.715613Z",
     "start_time": "2025-05-04T17:43:14.273052Z"
    }
   },
   "source": [
    "import torch\n",
    "import torch.nn.functional as F\n",
    "import re\n",
    "from pathlib import Path\n",
    "from transformers import PreTrainedTokenizerFast\n",
    "from models import NextByteTransformer\n",
    "\n",
    "context_length = 512\n",
    "d_model = 512\n",
    "num_heads = 8\n",
    "num_hidden_layers = 8\n",
    "d_hidden = 2048\n",
    "num_decoders = 2\n",
    "num_epochs = 8\n",
    "lr = 3e-5\n",
    "batch_size = 16\n",
    "device = torch.device(\"cuda\") if torch.cuda.is_available() else torch.device(\"cpu\")\n",
    "\n",
    "tokenizer_path = Path(\"Tokenizers/title_to_all_tokenizer\")\n",
    "hf_tokenizer = PreTrainedTokenizerFast.from_pretrained(tokenizer_path)\n",
    "hf_tokenizer.eos_token_id = hf_tokenizer.convert_tokens_to_ids(\"<end>\")\n",
    "model = NextByteTransformer(\n",
    "    vocab_size=20000,\n",
    "    context_length=context_length,\n",
    "    d_model=d_model,\n",
    "    num_heads=num_heads,\n",
    "    num_hidden_layers=num_hidden_layers,\n",
    "    d_hidden=d_hidden,\n",
    "    num_decoders=num_decoders\n",
    ").to(device)\n",
    "\n",
    "model.load_state_dict(torch.load(\"Models/all.pth\", map_location=device))\n",
    "model.eval()\n",
    "\n",
    "def generate_autoregressive(model, tokenizer, input_text, max_new_tokens=100, top_k=10, context_length=512, device=\"cpu\"):\n",
    "    model.eval()\n",
    "    input_ids = tokenizer.encode(input_text, return_tensors=\"pt\").to(device)\n",
    "    input_ids = input_ids[:, -context_length:]\n",
    "    generated = input_ids\n",
    "\n",
    "    with torch.no_grad():\n",
    "        for _ in range(max_new_tokens):\n",
    "            if generated.size(1) > context_length:\n",
    "                generated = generated[:, -context_length:]\n",
    "\n",
    "            logits = model(generated)[:, -1, :]  # shape: [1, vocab_size]\n",
    "            topk_logits, topk_indices = torch.topk(logits, k=top_k, dim=-1)\n",
    "            probs = F.softmax(topk_logits, dim=-1)\n",
    "\n",
    "            sampled_index = torch.multinomial(probs, num_samples=1)  # shape: [1, 1]\n",
    "            next_token = topk_indices.gather(-1, sampled_index)  # shape: [1, 1]\n",
    "\n",
    "            generated = torch.cat([generated, next_token], dim=1)\n",
    "\n",
    "            if next_token.item() == tokenizer.eos_token_id:\n",
    "                break\n",
    "\n",
    "    return tokenizer.decode(generated[0], skip_special_tokens=False)\n",
    "\n",
    "def count_parameters(model):\n",
    "    total = sum(p.numel() for p in model.parameters())\n",
    "    trainable = sum(p.numel() for p in model.parameters() if p.requires_grad)\n",
    "    print(f\"Total parameters: {total:,}\")\n",
    "    print(f\"Trainable parameters: {trainable:,}\")\n",
    "\n",
    "count_parameters(model)"
   ],
   "outputs": [
    {
     "name": "stdout",
     "output_type": "stream",
     "text": [
      "Total parameters: 75,312,672\n",
      "Trainable parameters: 75,312,672\n"
     ]
    }
   ],
   "execution_count": 46
  },
  {
   "metadata": {
    "ExecuteTime": {
     "end_time": "2025-05-04T17:43:21.382708Z",
     "start_time": "2025-05-04T17:43:18.198530Z"
    }
   },
   "cell_type": "code",
   "source": [
    "input_text = \"chicken tikka masala <end_title>\"\n",
    "output = generate_autoregressive(\n",
    "    model=model,\n",
    "    tokenizer=hf_tokenizer,\n",
    "    input_text=input_text,\n",
    "    max_new_tokens=400,\n",
    "    top_k=10,\n",
    "    context_length=context_length,\n",
    ")\n",
    "title = re.sub(r'\\s+([.,!?;:])', r'\\1', output[:output.index(\"<end_title>\")])\n",
    "ingredients = re.sub(r'\\s+([.,!?;:])', r'\\1', output[output.index(\"<end_title>\") + len(\"<end_title>\"):output.index(\"<end_ingredients>\")])\n",
    "directions = re.sub(r'\\s+([.,!?;:])', r'\\1', output[output.index(\"<end_ingredients>\") + len(\"<end_ingredients>\"):-len(\"<end>\")])\n",
    "\n",
    "print(f\"Recipe: \\n{title.title()}\\n\")\n",
    "print(f\"Ingredients: \\n{ingredients.title()}\\n\")\n",
    "print(f\"Directions: \\n{directions.title()}\\n\")"
   ],
   "id": "34a78f70d81c9953",
   "outputs": [
    {
     "name": "stdout",
     "output_type": "stream",
     "text": [
      "Recipe: \n",
      "Chicken Tikka Masala \n",
      "\n",
      "Ingredients: \n",
      " 4 Chicken Breasts, 2 Cups Chopped Onion, 1 Cup Chopped Green Pepper, 1 Cup Water, 1 ( 16 Ounce ) Can Tomato Sauce, 2 Cups Chicken Broth, 1 Teaspoon Ground Coriander, 12 Teaspoon Ground Cumin, 12 Teaspoon Salt, 12 Teaspoon Ground Ginger, 18 Teaspoon Ground Allspice, 1 Garlic Clove, Minced, 14 Cup Chopped Fresh Cilantro \n",
      "\n",
      "Directions: \n",
      " Cook Chicken In A Heavy, No Stick Cooking Spray, And Chop. Add Onion And Green Pepper; Cook For A Few Minutes. Add Water And Tomato Sauce, Bring To A Boil, Reduce Heat And Simmer, Covered For 5 - 10 Minutes Or Until Chicken And Vegetables Are Tender. Remove From Heat, And Add Cilantro, If Desired. Serve As A Main Dish. \n",
      "\n"
     ]
    }
   ],
   "execution_count": 47
  }
 ],
 "metadata": {
  "kernelspec": {
   "display_name": "Python 3",
   "language": "python",
   "name": "python3"
  },
  "language_info": {
   "codemirror_mode": {
    "name": "ipython",
    "version": 2
   },
   "file_extension": ".py",
   "mimetype": "text/x-python",
   "name": "python",
   "nbconvert_exporter": "python",
   "pygments_lexer": "ipython2",
   "version": "2.7.6"
  }
 },
 "nbformat": 4,
 "nbformat_minor": 5
}
