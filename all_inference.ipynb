{
 "cells": [
  {
   "cell_type": "code",
   "execution_count": 1,
   "id": "initial_id",
   "metadata": {
    "ExecuteTime": {
     "end_time": "2025-05-04T17:43:14.715613Z",
     "start_time": "2025-05-04T17:43:14.273052Z"
    },
    "collapsed": true
   },
   "outputs": [
    {
     "name": "stdout",
     "output_type": "stream",
     "text": [
      "Total parameters: 75,312,672\n",
      "Trainable parameters: 75,312,672\n"
     ]
    }
   ],
   "source": [
    "import torch\n",
    "import torch.nn.functional as F\n",
    "import re\n",
    "from pathlib import Path\n",
    "from transformers import PreTrainedTokenizerFast\n",
    "from models import NextByteTransformer\n",
    "\n",
    "context_length = 512\n",
    "d_model = 512\n",
    "num_heads = 8\n",
    "num_hidden_layers = 8\n",
    "d_hidden = 2048\n",
    "num_decoders = 2\n",
    "num_epochs = 8\n",
    "lr = 3e-5\n",
    "batch_size = 16\n",
    "device = torch.device(\"cuda\") if torch.cuda.is_available() else torch.device(\"cpu\")\n",
    "\n",
    "tokenizer_path = Path(\"Tokenizers/title_to_all_tokenizer\")\n",
    "hf_tokenizer = PreTrainedTokenizerFast.from_pretrained(tokenizer_path)\n",
    "hf_tokenizer.eos_token_id = hf_tokenizer.convert_tokens_to_ids(\"<end>\")\n",
    "model = NextByteTransformer(\n",
    "    vocab_size=20000,\n",
    "    context_length=context_length,\n",
    "    d_model=d_model,\n",
    "    num_heads=num_heads,\n",
    "    num_hidden_layers=num_hidden_layers,\n",
    "    d_hidden=d_hidden,\n",
    "    num_decoders=num_decoders\n",
    ").to(device)\n",
    "\n",
    "model.load_state_dict(torch.load(\"Models/all.pth\", map_location=device))\n",
    "model.eval()\n",
    "\n",
    "def generate_autoregressive(model, tokenizer, input_text, max_new_tokens=100, top_k=10, context_length=512, device=\"cpu\"):\n",
    "    model.eval()\n",
    "    input_ids = tokenizer.encode(input_text, return_tensors=\"pt\").to(device)\n",
    "    input_ids = input_ids[:, -context_length:]\n",
    "    generated = input_ids\n",
    "\n",
    "    with torch.no_grad():\n",
    "        for _ in range(max_new_tokens):\n",
    "            if generated.size(1) > context_length:\n",
    "                generated = generated[:, -context_length:]\n",
    "\n",
    "            logits = model(generated)[:, -1, :]  # shape: [1, vocab_size]\n",
    "            topk_logits, topk_indices = torch.topk(logits, k=top_k, dim=-1)\n",
    "            probs = F.softmax(topk_logits, dim=-1)\n",
    "\n",
    "            sampled_index = torch.multinomial(probs, num_samples=1)  # shape: [1, 1]\n",
    "            next_token = topk_indices.gather(-1, sampled_index)  # shape: [1, 1]\n",
    "\n",
    "            generated = torch.cat([generated, next_token], dim=1)\n",
    "\n",
    "            if next_token.item() == tokenizer.eos_token_id:\n",
    "                break\n",
    "\n",
    "    return tokenizer.decode(generated[0], skip_special_tokens=False)\n",
    "\n",
    "def count_parameters(model):\n",
    "    total = sum(p.numel() for p in model.parameters())\n",
    "    trainable = sum(p.numel() for p in model.parameters() if p.requires_grad)\n",
    "    print(f\"Total parameters: {total:,}\")\n",
    "    print(f\"Trainable parameters: {trainable:,}\")\n",
    "\n",
    "count_parameters(model)"
   ]
  },
  {
   "cell_type": "code",
   "execution_count": 3,
   "id": "34a78f70d81c9953",
   "metadata": {
    "ExecuteTime": {
     "end_time": "2025-05-04T17:43:21.382708Z",
     "start_time": "2025-05-04T17:43:18.198530Z"
    }
   },
   "outputs": [
    {
     "name": "stdout",
     "output_type": "stream",
     "text": [
      "Recipe: \n",
      "Eggplant Parmesan \n",
      "\n",
      "Ingredients: \n",
      " 1 Small Eggplant ( About 3 To 4 12 Lb ), 12 Cup Grated Asiago Cheese ( About 6 Oz. ), 1 Tbsp. Extra - Virgin Olive Oil, 14 Oz. Parmesan Cheese, 14 C. Finely Chopped Fresh Parsley, Divided, 1 Tbsp. Finely Chopped Fresh Thyme, Divided Divided, 1 12 Tbsp. Grated Parmesan Cheese \n",
      "\n",
      "Directions: \n",
      " Preheat Oven To 450 Degrees And Butter A 2 - Quart Baking Dish. Peel Eggplant, Leaving Stems. Place Each Eggplant Half On A Paper Towel - Lined Plate. Broil For 5 Minutes Or Until Eggplant Is Lightly Browned ( The Skin Should Be Browned ). Meanwhile, Combine Mozzarella, 12 Cup Ricotta, 2 Tbsp. Parmesan, Parsley, And 1 Cup Of The Parmesan In A Bowl, And Toss To Coat. Divide Eggplant And 14 Cup Of The Parmesan Over Eggplant To Within 12 Inch Of The Edge, And Scatter On 2 Baking Sheets. Bake Until The Eggplant Is Tender And Lightly Browned, About 30 Minutes. Transfer Eggplant To A Cutting Board And Cut Into 12 - Inch Chunks. \n",
      "\n"
     ]
    }
   ],
   "source": [
    "input_text = \"eggplant parmesan <end_title>\"\n",
    "output = generate_autoregressive(\n",
    "    model=model,\n",
    "    tokenizer=hf_tokenizer,\n",
    "    input_text=input_text,\n",
    "    max_new_tokens=400,\n",
    "    top_k=10,\n",
    "    context_length=context_length,\n",
    ")\n",
    "title = re.sub(r'\\s+([.,!?;:])', r'\\1', output[:output.index(\"<end_title>\")])\n",
    "ingredients = re.sub(r'\\s+([.,!?;:])', r'\\1', output[output.index(\"<end_title>\") + len(\"<end_title>\"):output.index(\"<end_ingredients>\")])\n",
    "directions = re.sub(r'\\s+([.,!?;:])', r'\\1', output[output.index(\"<end_ingredients>\") + len(\"<end_ingredients>\"):-len(\"<end>\")])\n",
    "\n",
    "print(f\"Recipe: \\n{title.title()}\\n\")\n",
    "print(f\"Ingredients: \\n{ingredients.title()}\\n\")\n",
    "print(f\"Directions: \\n{directions.title()}\\n\")"
   ]
  }
 ],
 "metadata": {
  "kernelspec": {
   "display_name": "base",
   "language": "python",
   "name": "python3"
  },
  "language_info": {
   "codemirror_mode": {
    "name": "ipython",
    "version": 3
   },
   "file_extension": ".py",
   "mimetype": "text/x-python",
   "name": "python",
   "nbconvert_exporter": "python",
   "pygments_lexer": "ipython3",
   "version": "3.12.7"
  }
 },
 "nbformat": 4,
 "nbformat_minor": 5
}
