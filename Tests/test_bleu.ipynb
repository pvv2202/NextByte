{
 "cells": [
  {
   "cell_type": "code",
   "execution_count": 13,
   "id": "34860621",
   "metadata": {},
   "outputs": [],
   "source": [
    "import torch\n",
    "import torch.nn\n",
    "import numpy as np\n",
    "import pandas as pd\n",
    "from torcheval.metrics.functional import bleu_score\n",
    "import random\n",
    "from recipe_nlg import RecipeNLGDataset\n",
    "from models import NextByteTransformer\n",
    "from Save_Results import save_bleu\n",
    "import kagglehub\n",
    "\n",
    "def get_bleu(model, num_prompts_per_trial, dataset):\n",
    "    \n",
    "    pred_recipes, ground_truth = [], []\n",
    "    \n",
    "    for i in range(num_prompts_per_trial):\n",
    "        \n",
    "        # random index for a random recipe\n",
    "        rand_index = random.randint(0, dataset.__len__()-1)\n",
    "        # get the title on its own from the cleaned data frame\n",
    "        title_prompt = dataset.recipes.iloc[rand_index]['title']\n",
    "        # get the full recipe string (not tokenized)\n",
    "        recipe_ref = dataset.recipe_strings.iloc[rand_index]\n",
    "        # pred = model.generate(title_prompt) # replace with actual generation method\n",
    "        pred = \"hamburger blah blah blah blah and the guy said hello whats up man\"\n",
    "        pred_recipes.append(pred)\n",
    "        ground_truth.append(recipe_ref)\n",
    "        \n",
    "    bleu = bleu_score(input=pred_recipes, target=ground_truth, n_gram=4) # n_gram = max count of sequential words to compare strings on\n",
    "    \n",
    "    # bleu is a 1d tensor, extract the value and convert to an np.float64 first\n",
    "    return bleu.item()\n",
    "\n",
    "\n",
    "# same params used in all training\n",
    "context_length = 512\n",
    "d_model = 512\n",
    "num_heads = 8\n",
    "num_hidden_layers = 8\n",
    "d_hidden = 2048\n",
    "num_decoders = 2\n",
    "num_epochs = 8\n",
    "\n",
    "# instantiate plain model\n",
    "model = NextByteTransformer(\n",
    "    vocab_size=20000,\n",
    "    context_length=context_length,\n",
    "    d_model=d_model,\n",
    "    num_heads=num_heads,\n",
    "    num_hidden_layers=num_hidden_layers,\n",
    "    d_hidden=d_hidden,\n",
    "    num_decoders=num_decoders\n",
    ") \n",
    "\n",
    "# LOAD MODEL HERE\n",
    "model_name = \"\"\n",
    "# state_dict_path = \"\"\n",
    "# model.load_state_dict(state_dict_path)"
   ]
  },
  {
   "cell_type": "code",
   "execution_count": 5,
   "id": "295fd673",
   "metadata": {},
   "outputs": [
    {
     "name": "stdout",
     "output_type": "stream",
     "text": [
      "Warning: Looks like you're using an outdated `kagglehub` version (installed: 0.3.11), please consider upgrading to the latest version (0.3.12).\n"
     ]
    }
   ],
   "source": [
    "path = kagglehub.dataset_download(\"paultimothymooney/recipenlg\")\n",
    "# Load the dataset\n",
    "df = pd.read_csv(path + \"/RecipeNLG_dataset.csv\", header=0)\n",
    "dataset = RecipeNLGDataset(df=df, mode='all')"
   ]
  },
  {
   "cell_type": "code",
   "execution_count": 11,
   "id": "ea599941",
   "metadata": {},
   "outputs": [
    {
     "name": "stdout",
     "output_type": "stream",
     "text": [
      "['trial', 'bleu_score', [1, 0.0], [2, 0.0], [3, 0.0], [4, 0.0], [5, 0.0], [6, 0.0], [7, 0.0], [8, 0.0], [9, 0.0], [10, 0.0]]\n"
     ]
    }
   ],
   "source": [
    "num_prompts_per_trial = 10\n",
    "num_trials = 10\n",
    "\n",
    "results = ['trial', 'bleu_score']\n",
    "\n",
    "\n",
    "for i in range(num_trials):\n",
    "    results.append([i + 1, get_bleu(model, num_prompts_per_trial, dataset)])\n",
    "    \n",
    "print(results)"
   ]
  },
  {
   "cell_type": "code",
   "execution_count": null,
   "id": "38873b44",
   "metadata": {},
   "outputs": [],
   "source": [
    "save_bleu(results=results, model_name=model_name)"
   ]
  }
 ],
 "metadata": {
  "kernelspec": {
   "display_name": "base",
   "language": "python",
   "name": "python3"
  },
  "language_info": {
   "codemirror_mode": {
    "name": "ipython",
    "version": 3
   },
   "file_extension": ".py",
   "mimetype": "text/x-python",
   "name": "python",
   "nbconvert_exporter": "python",
   "pygments_lexer": "ipython3",
   "version": "3.12.7"
  }
 },
 "nbformat": 4,
 "nbformat_minor": 5
}
