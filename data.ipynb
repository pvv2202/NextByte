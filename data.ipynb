{
 "cells": [
  {
   "cell_type": "code",
   "id": "initial_id",
   "metadata": {
    "collapsed": true,
    "ExecuteTime": {
     "end_time": "2025-05-17T20:12:04.899432Z",
     "start_time": "2025-05-17T20:11:08.151536Z"
    }
   },
   "source": [
    "from tokenizers import Tokenizer, models, trainers, pre_tokenizers, normalizers\n",
    "from recipe_nlg import RecipeNLGDataset, TokenizedRecipeNLGDataset\n",
    "from torch.utils.data import DataLoader\n",
    "from tokenizers.processors import TemplateProcessing\n",
    "from transformers import PreTrainedTokenizerFast\n",
    "from pathlib import Path\n",
    "import torch\n",
    "import pandas as pd\n",
    "import kagglehub\n",
    "\n",
    "# Download latest version\n",
    "path = kagglehub.dataset_download(\"paultimothymooney/recipenlg\")\n",
    "# Load the dataset\n",
    "df = pd.read_csv(path + \"/RecipeNLG_dataset.csv\", header=0)\n",
    "dataset = RecipeNLGDataset(df=df, mode='all')"
   ],
   "outputs": [
    {
     "name": "stderr",
     "output_type": "stream",
     "text": [
      "/Users/paulvandervort/PycharmProjects/NextByte/.venv/lib/python3.11/site-packages/tqdm/auto.py:21: TqdmWarning: IProgress not found. Please update jupyter and ipywidgets. See https://ipywidgets.readthedocs.io/en/stable/user_install.html\n",
      "  from .autonotebook import tqdm as notebook_tqdm\n"
     ]
    },
    {
     "name": "stdout",
     "output_type": "stream",
     "text": [
      "Warning: Looks like you're using an outdated `kagglehub` version (installed: 0.3.11), please consider upgrading to the latest version (0.3.12).\n"
     ]
    }
   ],
   "execution_count": 1
  },
  {
   "metadata": {
    "ExecuteTime": {
     "end_time": "2025-05-17T20:12:04.916569Z",
     "start_time": "2025-05-17T20:12:04.914904Z"
    }
   },
   "cell_type": "code",
   "source": "print(len(dataset))",
   "id": "e33f50f1fbf2477e",
   "outputs": [
    {
     "name": "stdout",
     "output_type": "stream",
     "text": [
      "2231142\n"
     ]
    }
   ],
   "execution_count": 2
  },
  {
   "metadata": {
    "ExecuteTime": {
     "end_time": "2025-05-17T20:12:17.600770Z",
     "start_time": "2025-05-17T20:12:05.036350Z"
    }
   },
   "cell_type": "code",
   "source": [
    "values = ['www.kraftrecipes.com', 'recipes-plus.com', 'www.foodgeeks.com', 'allrecipes.com', 'www.cookbooks.com', 'cookeatshare.com', 'www.landolakes.com',  'cookpad.com']\n",
    "dataset.filter('link', values)"
   ],
   "id": "b6b798fe39b370fb",
   "outputs": [],
   "execution_count": 3
  },
  {
   "metadata": {
    "ExecuteTime": {
     "end_time": "2025-05-17T20:12:17.616395Z",
     "start_time": "2025-05-17T20:12:17.614771Z"
    }
   },
   "cell_type": "code",
   "source": "print(len(dataset))",
   "id": "a8e21de94f5a3034",
   "outputs": [
    {
     "name": "stdout",
     "output_type": "stream",
     "text": [
      "1075882\n"
     ]
    }
   ],
   "execution_count": 4
  }
 ],
 "metadata": {
  "kernelspec": {
   "display_name": "Python 3",
   "language": "python",
   "name": "python3"
  },
  "language_info": {
   "codemirror_mode": {
    "name": "ipython",
    "version": 2
   },
   "file_extension": ".py",
   "mimetype": "text/x-python",
   "name": "python",
   "nbconvert_exporter": "python",
   "pygments_lexer": "ipython2",
   "version": "2.7.6"
  }
 },
 "nbformat": 4,
 "nbformat_minor": 5
}
