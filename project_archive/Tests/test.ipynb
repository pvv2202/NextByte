{
 "cells": [
  {
   "cell_type": "code",
   "id": "initial_id",
   "metadata": {
    "collapsed": true,
    "ExecuteTime": {
     "end_time": "2025-04-22T01:08:03.685996Z",
     "start_time": "2025-04-22T01:08:02.005135Z"
    }
   },
   "source": [
    "import kagglehub\n",
    "import pandas as pd\n",
    "from recipe_nlg import RecipeNLGDataset, TokenizedRecipeNLGDataset\n",
    "from transformers import PreTrainedTokenizerFast\n",
    "from pathlib import Path\n",
    "import torch, torchvision"
   ],
   "outputs": [
    {
     "name": "stderr",
     "output_type": "stream",
     "text": [
      "/Users/paulvandervort/PycharmProjects/NextByte/.venv/lib/python3.11/site-packages/tqdm/auto.py:21: TqdmWarning: IProgress not found. Please update jupyter and ipywidgets. See https://ipywidgets.readthedocs.io/en/stable/user_install.html\n",
      "  from .autonotebook import tqdm as notebook_tqdm\n"
     ]
    }
   ],
   "execution_count": 1
  },
  {
   "metadata": {
    "ExecuteTime": {
     "end_time": "2025-04-22T01:08:39.977823Z",
     "start_time": "2025-04-22T01:08:22.328785Z"
    }
   },
   "cell_type": "code",
   "source": [
    "# Download latest version\n",
    "path = kagglehub.dataset_download(\"paultimothymooney/recipenlg\")\n",
    "# Load the dataset\n",
    "df = pd.read_csv(path + \"/RecipeNLG_dataset.csv\", header=0)"
   ],
   "id": "61766162d788c8fe",
   "outputs": [],
   "execution_count": 2
  },
  {
   "metadata": {
    "ExecuteTime": {
     "end_time": "2025-04-22T01:15:31.725879Z",
     "start_time": "2025-04-22T01:13:59.840532Z"
    }
   },
   "cell_type": "code",
   "source": [
    "# Create an instance of the RecipeNLGDataset class\n",
    "dataset = RecipeNLGDataset(df=df, mode='ingredients_to_directions')\n",
    "torch.save(dataset, '../Datasets/recipenlg_dataset_ingredients_to_directions.pt')"
   ],
   "id": "7d3bf32b9eed7f43",
   "outputs": [],
   "execution_count": 6
  },
  {
   "metadata": {
    "ExecuteTime": {
     "end_time": "2025-04-22T01:09:48.107882Z",
     "start_time": "2025-04-22T01:09:48.105058Z"
    }
   },
   "cell_type": "code",
   "source": [
    "# # Get columns for websites\n",
    "# columns = dataset.df.columns.tolist()\n",
    "#\n",
    "# sites = ['www.kraftrecipes.com', 'cooking.nytimes.com', 'recipes-plus.com', 'www.foodandwine.com', 'www.myrecipes.com', 'www.foodgeeks.com', 'allrecipes.com', 'recipeland.com', 'www.vegetariantimes.com', 'www.food.com', 'www.foodrepublic.com', 'www.foodnetwork.com', 'www.yummly.com', 'www.cookbooks.com', 'www.lovefood.com', 'tastykitchen.com', 'www.tasteofhome.com', 'www.cookstr.com', 'online-cookbook.com', 'www.chowhound.com', 'www.allrecipes.com', 'www.delish.com', 'cookeatshare.com', 'www.epicurious.com', 'www.landolakes.com', 'cookpad.com', 'www.seriouseats.com', 'food52.com']\n",
    "#\n",
    "# unique_websites = set()\n",
    "# for website in df['link']:\n",
    "#     i = website.find('.com')\n",
    "#     unique_websites.add(website[:i+4])\n",
    "#\n",
    "# print(unique_websites)\n"
   ],
   "id": "5f997ae33802b27f",
   "outputs": [],
   "execution_count": 4
  },
  {
   "metadata": {
    "ExecuteTime": {
     "end_time": "2025-04-22T02:03:40.548770Z",
     "start_time": "2025-04-22T02:01:46.702330Z"
    }
   },
   "cell_type": "code",
   "source": [
    "print(\"Start\")\n",
    "tokenizer_path = Path(\"../Tokenizers/ingredients_to_directions_tokenizer\")\n",
    "print(\"Loading Tokenizer\")\n",
    "hf_tokenizer = PreTrainedTokenizerFast.from_pretrained(tokenizer_path, model_max_length=512)\n",
    "print(\"Creating Dataset\")\n",
    "tokenized_dataset = TokenizedRecipeNLGDataset(df=df, tokenizer=hf_tokenizer, mode='ingredients_to_directions')\n",
    "print(\"Saving Tokenizer\")\n",
    "torch.save(tokenized_dataset, '../Datasets/tokenized_recipenlg_dataset_ingredients_to_directions.pt')\n",
    "print(\"Done\")"
   ],
   "id": "3f37febd32ea441e",
   "outputs": [
    {
     "name": "stdout",
     "output_type": "stream",
     "text": [
      "Start\n",
      "Loading Tokenizer\n",
      "Creating Dataset\n",
      "Saving Tokenizer\n",
      "Done\n"
     ]
    }
   ],
   "execution_count": 9
  }
 ],
 "metadata": {
  "kernelspec": {
   "display_name": "Python 3",
   "language": "python",
   "name": "python3"
  },
  "language_info": {
   "codemirror_mode": {
    "name": "ipython",
    "version": 2
   },
   "file_extension": ".py",
   "mimetype": "text/x-python",
   "name": "python",
   "nbconvert_exporter": "python",
   "pygments_lexer": "ipython2",
   "version": "2.7.6"
  }
 },
 "nbformat": 4,
 "nbformat_minor": 5
}
