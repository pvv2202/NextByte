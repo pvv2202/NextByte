{
 "cells": [
  {
   "cell_type": "code",
   "id": "initial_id",
   "metadata": {
    "collapsed": true,
    "ExecuteTime": {
     "end_time": "2025-04-17T14:17:20.128321Z",
     "start_time": "2025-04-17T14:17:19.060268Z"
    }
   },
   "source": [
    "import kagglehub\n",
    "import pandas as pd\n",
    "from recipe_nlg import RecipeNLGDataset, TokenizedRecipeNLGDataset\n",
    "from transformers import PreTrainedTokenizerFast\n",
    "from pathlib import Path"
   ],
   "outputs": [
    {
     "name": "stderr",
     "output_type": "stream",
     "text": [
      "/Users/paulvandervort/PycharmProjects/NextByte/.venv/lib/python3.11/site-packages/tqdm/auto.py:21: TqdmWarning: IProgress not found. Please update jupyter and ipywidgets. See https://ipywidgets.readthedocs.io/en/stable/user_install.html\n",
      "  from .autonotebook import tqdm as notebook_tqdm\n"
     ]
    }
   ],
   "execution_count": 1
  },
  {
   "metadata": {
    "ExecuteTime": {
     "end_time": "2025-04-17T14:18:15.702533Z",
     "start_time": "2025-04-17T14:17:20.131329Z"
    }
   },
   "cell_type": "code",
   "source": [
    "# Download latest version\n",
    "path = kagglehub.dataset_download(\"paultimothymooney/recipenlg\")\n",
    "# Load the dataset\n",
    "df = pd.read_csv(path + \"/RecipeNLG_dataset.csv\", header=0)\n",
    "\n",
    "# Create an instance of the RecipeNLGDataset class\n",
    "dataset = RecipeNLGDataset(df=df, mode='all')"
   ],
   "id": "61766162d788c8fe",
   "outputs": [],
   "execution_count": 2
  },
  {
   "metadata": {
    "ExecuteTime": {
     "end_time": "2025-04-17T14:18:16.239429Z",
     "start_time": "2025-04-17T14:18:15.793835Z"
    }
   },
   "cell_type": "code",
   "source": [
    "# Get columns for websites\n",
    "columns = dataset.df.columns.tolist()\n",
    "\n",
    "sites = ['www.kraftrecipes.com', 'cooking.nytimes.com', 'recipes-plus.com', 'www.foodandwine.com', 'www.myrecipes.com', 'www.foodgeeks.com', 'allrecipes.com', 'recipeland.com', 'www.vegetariantimes.com', 'www.food.com', 'www.foodrepublic.com', 'www.foodnetwork.com', 'www.yummly.com', 'www.cookbooks.com', 'www.lovefood.com', 'tastykitchen.com', 'www.tasteofhome.com', 'www.cookstr.com', 'online-cookbook.com', 'www.chowhound.com', 'www.allrecipes.com', 'www.delish.com', 'cookeatshare.com', 'www.epicurious.com', 'www.landolakes.com', 'cookpad.com', 'www.seriouseats.com', 'food52.com']\n",
    "\n",
    "unique_websites = set()\n",
    "for website in df['link']:\n",
    "    i = website.find('.com')\n",
    "    unique_websites.add(website[:i+4])\n",
    "\n",
    "print(unique_websites)\n"
   ],
   "id": "5f997ae33802b27f",
   "outputs": [
    {
     "name": "stdout",
     "output_type": "stream",
     "text": [
      "{'www.vegetariantimes.com', 'www.yummly.com', 'www.food.com', 'www.tasteofhome.com', 'www.allrecipes.com', 'food52.com', 'www.myrecipes.com', 'recipeland.com', 'www.kraftrecipes.com', 'www.cookbooks.com', 'allrecipes.com', 'www.landolakes.com', 'tastykitchen.com', 'online-cookbook.com', 'cookeatshare.com', 'cooking.nytimes.com', 'www.chowhound.com', 'www.foodandwine.com', 'www.foodnetwork.com', 'www.delish.com', 'www.foodrepublic.com', 'recipes-plus.com', 'www.foodgeeks.com', 'www.epicurious.com', 'www.seriouseats.com', 'cookpad.com', 'www.lovefood.com', 'www.cookstr.com'}\n"
     ]
    }
   ],
   "execution_count": 3
  },
  {
   "metadata": {
    "ExecuteTime": {
     "end_time": "2025-04-17T14:34:32.335884Z",
     "start_time": "2025-04-17T14:18:16.245411Z"
    }
   },
   "cell_type": "code",
   "source": [
    "tokenizer_path = Path(\"Tokenizers/title_to_all_tokenizer\")\n",
    "hf_tokenizer = PreTrainedTokenizerFast.from_pretrained(tokenizer_path, model_max_length=512)\n",
    "tokenized_dataset = TokenizedRecipeNLGDataset(df=df, tokenizer=hf_tokenizer, mode='all')"
   ],
   "id": "3f37febd32ea441e",
   "outputs": [],
   "execution_count": 4
  },
  {
   "metadata": {
    "ExecuteTime": {
     "end_time": "2025-04-17T14:34:32.930090Z",
     "start_time": "2025-04-17T14:34:32.602202Z"
    }
   },
   "cell_type": "code",
   "source": "print(tokenized_dataset.__getitem__(0))",
   "id": "215933342b60b2d7",
   "outputs": [
    {
     "ename": "TypeError",
     "evalue": "'tokenizers.Encoding' object is not subscriptable",
     "output_type": "error",
     "traceback": [
      "\u001B[31m---------------------------------------------------------------------------\u001B[39m",
      "\u001B[31mTypeError\u001B[39m                                 Traceback (most recent call last)",
      "\u001B[36mCell\u001B[39m\u001B[36m \u001B[39m\u001B[32mIn[5]\u001B[39m\u001B[32m, line 1\u001B[39m\n\u001B[32m----> \u001B[39m\u001B[32m1\u001B[39m \u001B[38;5;28mprint\u001B[39m(\u001B[43mtokenized_dataset\u001B[49m\u001B[43m.\u001B[49m\u001B[34;43m__getitem__\u001B[39;49m\u001B[43m(\u001B[49m\u001B[32;43m0\u001B[39;49m\u001B[43m)\u001B[49m)\n",
      "\u001B[36mFile \u001B[39m\u001B[32m~/PycharmProjects/NextByte/recipe_nlg.py:67\u001B[39m, in \u001B[36mTokenizedRecipeNLGDataset.__getitem__\u001B[39m\u001B[34m(self, idx)\u001B[39m\n\u001B[32m     65\u001B[39m \u001B[38;5;250m\u001B[39m\u001B[33;03m\"\"\"Return a training sample\"\"\"\u001B[39;00m\n\u001B[32m     66\u001B[39m sample = \u001B[38;5;28mself\u001B[39m.tokenized_recipes[idx]\n\u001B[32m---> \u001B[39m\u001B[32m67\u001B[39m \u001B[38;5;28;01mreturn\u001B[39;00m \u001B[43msample\u001B[49m\u001B[43m[\u001B[49m\u001B[43m:\u001B[49m\u001B[43m-\u001B[49m\u001B[32;43m1\u001B[39;49m\u001B[43m]\u001B[49m, sample[\u001B[32m1\u001B[39m:]\n",
      "\u001B[31mTypeError\u001B[39m: 'tokenizers.Encoding' object is not subscriptable"
     ]
    }
   ],
   "execution_count": 5
  }
 ],
 "metadata": {
  "kernelspec": {
   "display_name": "Python 3",
   "language": "python",
   "name": "python3"
  },
  "language_info": {
   "codemirror_mode": {
    "name": "ipython",
    "version": 2
   },
   "file_extension": ".py",
   "mimetype": "text/x-python",
   "name": "python",
   "nbconvert_exporter": "python",
   "pygments_lexer": "ipython2",
   "version": "2.7.6"
  }
 },
 "nbformat": 4,
 "nbformat_minor": 5
}
