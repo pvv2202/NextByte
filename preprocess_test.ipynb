{
 "cells": [
  {
   "cell_type": "code",
   "id": "initial_id",
   "metadata": {
    "collapsed": true,
    "ExecuteTime": {
     "end_time": "2025-04-12T14:15:49.536240Z",
     "start_time": "2025-04-12T14:14:13.878251Z"
    }
   },
   "source": [
    "import kagglehub\n",
    "import pandas as pd\n",
    "from recipe_nlg import RecipeNLGDataset\n",
    "\n",
    "# Download latest version\n",
    "path = kagglehub.dataset_download(\"paultimothymooney/recipenlg\")\n",
    "# Load the dataset\n",
    "df = pd.read_csv(path + \"/RecipeNLG_dataset.csv\", header=0)"
   ],
   "outputs": [],
   "execution_count": 16
  },
  {
   "metadata": {
    "ExecuteTime": {
     "end_time": "2025-04-12T14:15:49.531175Z",
     "start_time": "2025-04-12T14:15:49.450584Z"
    }
   },
   "cell_type": "code",
   "source": [
    "\n",
    "# Create an instance of the RecipeNLGDataset class\n",
    "dataset = RecipeNLGDataset(df)"
   ],
   "id": "28591a444afd7361",
   "outputs": [
    {
     "ename": "NameError",
     "evalue": "name 'RecipeNLGDataset' is not defined",
     "output_type": "error",
     "traceback": [
      "\u001B[31m---------------------------------------------------------------------------\u001B[39m",
      "\u001B[31mNameError\u001B[39m                                 Traceback (most recent call last)",
      "\u001B[36mCell\u001B[39m\u001B[36m \u001B[39m\u001B[32mIn[1]\u001B[39m\u001B[32m, line 2\u001B[39m\n\u001B[32m      1\u001B[39m \u001B[38;5;66;03m# Create an instance of the RecipeNLGDataset class\u001B[39;00m\n\u001B[32m----> \u001B[39m\u001B[32m2\u001B[39m dataset = \u001B[43mRecipeNLGDataset\u001B[49m(df)\n",
      "\u001B[31mNameError\u001B[39m: name 'RecipeNLGDataset' is not defined"
     ]
    }
   ],
   "execution_count": 1
  },
  {
   "metadata": {
    "ExecuteTime": {
     "end_time": "2025-04-12T14:14:57.311178Z",
     "start_time": "2025-04-12T14:14:57.296273Z"
    }
   },
   "cell_type": "code",
   "source": [
    "# Print the column names\n",
    "dataset.print_columns()"
   ],
   "id": "bd8bc048ff7bdb7d",
   "outputs": [
    {
     "name": "stdout",
     "output_type": "stream",
     "text": [
      "Column Names:\n",
      "Unnamed: 0\n",
      "title\n",
      "ingredients\n",
      "directions\n",
      "link\n",
      "source\n",
      "NER\n"
     ]
    }
   ],
   "execution_count": 17
  },
  {
   "metadata": {
    "ExecuteTime": {
     "end_time": "2025-04-12T14:15:00.348891Z",
     "start_time": "2025-04-12T14:15:00.333111Z"
    }
   },
   "cell_type": "code",
   "source": [
    "# Print unique values in certain columns\n",
    "print(dataset.__getitem__(0))\n",
    "# dataset.print_unique_values('link')"
   ],
   "id": "e11ac8427117d121",
   "outputs": [
    {
     "name": "stdout",
     "output_type": "stream",
     "text": [
      "('no-bake nut cookies<end_title>1 c. firmly packed brown sugar\\n \"12 c. evaporated milk\\n \"12 tsp. vanilla\\n \"12 c. broken nuts (pecans)\\n \"2 tbsp. butter or margarine\\n \"3 12 c. bite size shredded rice biscuits<end_ingredients>in a heavy 2-quart saucepan\\n mix brown sugar\\n nuts\\n evaporated milk and butter or margarine.\\n \"stir over medium heat until mixture bubbles all over top.\\n \"boil and stir 5 minutes more. take off heat.\\n \"stir in vanilla and cereal; mix well.\\n \"using 2 teaspoons\\n drop and shape into 30 clusters on wax paper.\\n \"let stand until firm\\n about 30 minutes.<end', 'o-bake nut cookies<end_title>1 c. firmly packed brown sugar\\n \"12 c. evaporated milk\\n \"12 tsp. vanilla\\n \"12 c. broken nuts (pecans)\\n \"2 tbsp. butter or margarine\\n \"3 12 c. bite size shredded rice biscuits<end_ingredients>in a heavy 2-quart saucepan\\n mix brown sugar\\n nuts\\n evaporated milk and butter or margarine.\\n \"stir over medium heat until mixture bubbles all over top.\\n \"boil and stir 5 minutes more. take off heat.\\n \"stir in vanilla and cereal; mix well.\\n \"using 2 teaspoons\\n drop and shape into 30 clusters on wax paper.\\n \"let stand until firm\\n about 30 minutes.<end>')\n"
     ]
    }
   ],
   "execution_count": 22
  },
  {
   "metadata": {
    "ExecuteTime": {
     "end_time": "2025-04-12T13:55:21.280695Z",
     "start_time": "2025-04-12T13:55:21.254561Z"
    }
   },
   "cell_type": "code",
   "source": "print(dataset.recipe_strings[0])",
   "id": "5654d370efc2c50c",
   "outputs": [
    {
     "ename": "AttributeError",
     "evalue": "'RecipeNLGDataset' object has no attribute 'recipe_strings'",
     "output_type": "error",
     "traceback": [
      "\u001B[31m---------------------------------------------------------------------------\u001B[39m",
      "\u001B[31mAttributeError\u001B[39m                            Traceback (most recent call last)",
      "\u001B[36mCell\u001B[39m\u001B[36m \u001B[39m\u001B[32mIn[64]\u001B[39m\u001B[32m, line 1\u001B[39m\n\u001B[32m----> \u001B[39m\u001B[32m1\u001B[39m \u001B[38;5;28mprint\u001B[39m(\u001B[43mdataset\u001B[49m\u001B[43m.\u001B[49m\u001B[43mrecipe_strings\u001B[49m[\u001B[32m0\u001B[39m])\n",
      "\u001B[31mAttributeError\u001B[39m: 'RecipeNLGDataset' object has no attribute 'recipe_strings'"
     ]
    }
   ],
   "execution_count": 64
  }
 ],
 "metadata": {
  "kernelspec": {
   "display_name": "Python 3",
   "language": "python",
   "name": "python3"
  },
  "language_info": {
   "codemirror_mode": {
    "name": "ipython",
    "version": 2
   },
   "file_extension": ".py",
   "mimetype": "text/x-python",
   "name": "python",
   "nbconvert_exporter": "python",
   "pygments_lexer": "ipython2",
   "version": "2.7.6"
  }
 },
 "nbformat": 4,
 "nbformat_minor": 5
}
